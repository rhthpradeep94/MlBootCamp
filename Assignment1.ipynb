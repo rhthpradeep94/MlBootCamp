{
 "cells": [
  {
   "cell_type": "code",
   "execution_count": 1,
   "id": "072bd9bc-750a-48b1-bda5-e92ae9e80605",
   "metadata": {},
   "outputs": [
    {
     "name": "stdin",
     "output_type": "stream",
     "text": [
      "Enter a number 12\n",
      "Enter a number 32\n"
     ]
    },
    {
     "name": "stdout",
     "output_type": "stream",
     "text": [
      "Sum  44\n"
     ]
    }
   ],
   "source": [
    "a=int(input(\"Enter a number\"))\n",
    "b=int(input(\"Enter a number\"))\n",
    "print(\"Sum \",a+b)"
   ]
  },
  {
   "cell_type": "code",
   "execution_count": 5,
   "id": "1b88a877-b436-486b-bc91-ccba280f583f",
   "metadata": {},
   "outputs": [
    {
     "name": "stdin",
     "output_type": "stream",
     "text": [
      "Enter the radius of the Circle 1\n"
     ]
    },
    {
     "name": "stdout",
     "output_type": "stream",
     "text": [
      "The Circumference = 6.283185307179586\n",
      "The area= 3.141592653589793\n"
     ]
    }
   ],
   "source": [
    "import math\n",
    "a=int(input(\"Enter the radius of the Circle\"))\n",
    "print(\"The Circumference =\",2*math.pi*a)\n",
    "print(\"The area=\",math.pi*a**2)"
   ]
  },
  {
   "cell_type": "code",
   "execution_count": 2,
   "id": "af3cda8d-a89c-4358-aae2-a7b5e243a7d5",
   "metadata": {},
   "outputs": [
    {
     "name": "stdin",
     "output_type": "stream",
     "text": [
      "Enter Roll Number 12\n",
      "Enter Grade s\n",
      "Enter Percentage 12\n"
     ]
    },
    {
     "name": "stdout",
     "output_type": "stream",
     "text": [
      "Roll Number:  12  Grade:  s  Percentage:  12\n"
     ]
    }
   ],
   "source": [
    "a=input(\"Enter Roll Number\")\n",
    "b=input(\"Enter Grade\")\n",
    "c=input(\"Enter Percentage\")\n",
    "print(\"Roll Number: \",a,\" Grade: \",b,\" Percentage: \",c)"
   ]
  },
  {
   "cell_type": "code",
   "execution_count": 3,
   "id": "31089808-2cd4-41e6-9567-0267cea4eb83",
   "metadata": {},
   "outputs": [
    {
     "name": "stdin",
     "output_type": "stream",
     "text": [
      "Enter Name Rohith\n",
      "Enter age 28\n"
     ]
    },
    {
     "name": "stdout",
     "output_type": "stream",
     "text": [
      "Rohith  Will be hundred years old in the year  2094\n"
     ]
    }
   ],
   "source": [
    "a=input(\"Enter Name\")\n",
    "b=int(input(\"Enter age\"))\n",
    "print(a, \" Will be hundred years old in the year \",((100-b)+2022))"
   ]
  },
  {
   "cell_type": "code",
   "execution_count": 2,
   "id": "1689a52a-23da-4358-8366-ff961382c208",
   "metadata": {},
   "outputs": [
    {
     "name": "stdin",
     "output_type": "stream",
     "text": [
      "Enter First Name Rohith\n",
      "Enter Last Name Pradeep\n"
     ]
    },
    {
     "name": "stdout",
     "output_type": "stream",
     "text": [
      "htihoR   peedarP\n"
     ]
    }
   ],
   "source": [
    "a=input(\"Enter First Name\")\n",
    "b=input(\"Enter Last Name\")\n",
    "print(a[::-1],\" \",b[::-1])"
   ]
  },
  {
   "cell_type": "code",
   "execution_count": 11,
   "id": "c960a3fe-571f-4248-95ce-57d13b5ce9f7",
   "metadata": {},
   "outputs": [
    {
     "name": "stdin",
     "output_type": "stream",
     "text": [
      "Enter the Number with space 123 45\n"
     ]
    },
    {
     "name": "stdout",
     "output_type": "stream",
     "text": [
      "['123', '45']\n",
      "Sum=  168\n"
     ]
    }
   ],
   "source": [
    "a=input(\"Enter the Number with space\")\n",
    "c=a.split( )\n",
    "p=0\n",
    "for i in c:\n",
    "    p=p+int(i)\n",
    "print(\"Sum= \",p)\n"
   ]
  },
  {
   "cell_type": "code",
   "execution_count": 14,
   "id": "556e3d07-ea4e-4410-a8bc-b0ce002b5eca",
   "metadata": {},
   "outputs": [
    {
     "name": "stdin",
     "output_type": "stream",
     "text": [
      "Enter a Number 98\n"
     ]
    },
    {
     "name": "stdout",
     "output_type": "stream",
     "text": [
      "Even\n"
     ]
    }
   ],
   "source": [
    "a=int(input(\"Enter a Number\"))\n",
    "c=a%2\n",
    "if c==0:\n",
    "    print(\"Even\")\n",
    "else:\n",
    "    print(\"Odd\")"
   ]
  },
  {
   "cell_type": "code",
   "execution_count": 17,
   "id": "35162de7-35b8-4e36-9238-e7853cf0750a",
   "metadata": {},
   "outputs": [
    {
     "name": "stdin",
     "output_type": "stream",
     "text": [
      "Enter the Alphabet hut\n"
     ]
    },
    {
     "name": "stdout",
     "output_type": "stream",
     "text": [
      "Small\n"
     ]
    }
   ],
   "source": [
    "a=input(\"Enter the Alphabet\")\n",
    "if ord(a[0])>91:\n",
    "    print(\"Small\")\n",
    "else:\n",
    "    print(\"Cap\")"
   ]
  },
  {
   "cell_type": "code",
   "execution_count": 25,
   "id": "474772d9-06e3-45e9-afea-2b1c72b48bbd",
   "metadata": {},
   "outputs": [
    {
     "name": "stdin",
     "output_type": "stream",
     "text": [
      "Enter character @\n"
     ]
    },
    {
     "name": "stdout",
     "output_type": "stream",
     "text": [
      "Special Symbol\n"
     ]
    }
   ],
   "source": [
    "import re\n",
    "#cap=re.compile('A-Z')\n",
    "#small=re.compile('a-z')\n",
    "#digit=re.compile('0-9')\n",
    "a=input(\"Enter character\")\n",
    "if ord(a[0])>=65  and ord(a[0])<=90:\n",
    "    print(\"Capital\")\n",
    "elif ord(a[0])>=97 and ord(a[0])<=122:\n",
    "    print(\"Small Letter\")\n",
    "elif ord(a[0])>=48 and ord(a[0])<=57:\n",
    "    print(\"digit\")\n",
    "else:\n",
    "    print(\"Special Symbol\")"
   ]
  },
  {
   "cell_type": "code",
   "execution_count": 26,
   "id": "ce5befe3-1eaf-4a66-b57b-e972109dc241",
   "metadata": {},
   "outputs": [
    {
     "name": "stdin",
     "output_type": "stream",
     "text": [
      "Enter first Number 12\n",
      "Enter second Number 23\n",
      "Enter third Number 10\n"
     ]
    },
    {
     "name": "stdout",
     "output_type": "stream",
     "text": [
      "Highest Number is  23\n"
     ]
    }
   ],
   "source": [
    "a=int(input(\"Enter first Number\"))\n",
    "b=int(input(\"Enter second Number\"))\n",
    "c=int(input(\"Enter third Number\"))\n",
    "d=[a,b,c]\n",
    "print(\"Highest Number is \",max(d))\n",
    "\n"
   ]
  },
  {
   "cell_type": "code",
   "execution_count": 32,
   "id": "f2777e35-5309-4eb5-998a-2554e4b15a4b",
   "metadata": {},
   "outputs": [
    {
     "name": "stdin",
     "output_type": "stream",
     "text": [
      "Enter the year 1900\n"
     ]
    },
    {
     "name": "stdout",
     "output_type": "stream",
     "text": [
      "Not Leap year\n"
     ]
    }
   ],
   "source": [
    "a=int(input(\"Enter the year\"))\n",
    "if a%4==0 and a%100!=0:\n",
    "    print(\"Leap year\")\n",
    "else:\n",
    "    print(\"Not Leap year\")\n",
    "    if a%400==0:\n",
    "        print(\"Leap year\")"
   ]
  },
  {
   "cell_type": "code",
   "execution_count": 36,
   "id": "25d28c2b-e1fa-4388-b8f5-24e22cfae20c",
   "metadata": {},
   "outputs": [
    {
     "name": "stdin",
     "output_type": "stream",
     "text": [
      "Guess the number! 50\n"
     ]
    },
    {
     "name": "stdout",
     "output_type": "stream",
     "text": [
      "The number is greater than the guessed\n"
     ]
    },
    {
     "name": "stdin",
     "output_type": "stream",
     "text": [
      "Guess the number! 40\n"
     ]
    },
    {
     "name": "stdout",
     "output_type": "stream",
     "text": [
      "The number is greater than the guessed\n"
     ]
    },
    {
     "name": "stdin",
     "output_type": "stream",
     "text": [
      "Guess the number! 10\n"
     ]
    },
    {
     "name": "stdout",
     "output_type": "stream",
     "text": [
      "The number is greater than the guessed\n"
     ]
    },
    {
     "name": "stdin",
     "output_type": "stream",
     "text": [
      "Guess the number! 90\n"
     ]
    },
    {
     "name": "stdout",
     "output_type": "stream",
     "text": [
      "The number is greater than the guessed\n"
     ]
    },
    {
     "name": "stdin",
     "output_type": "stream",
     "text": [
      "Guess the number! 95\n"
     ]
    },
    {
     "name": "stdout",
     "output_type": "stream",
     "text": [
      "The number is greater than the guessed\n"
     ]
    },
    {
     "name": "stdin",
     "output_type": "stream",
     "text": [
      "Guess the number! 96\n"
     ]
    },
    {
     "name": "stdout",
     "output_type": "stream",
     "text": [
      "The number is greater than the guessed\n"
     ]
    },
    {
     "name": "stdin",
     "output_type": "stream",
     "text": [
      "Guess the number! 99\n"
     ]
    },
    {
     "name": "stdout",
     "output_type": "stream",
     "text": [
      "The guessed number matches the actual number 99\n"
     ]
    }
   ],
   "source": [
    "import random\n",
    "p=random.randint(0,100)\n",
    "while p!=a and a!=q:\n",
    "    a=int(input(\"Guess the number! or enter q to quit\"))\n",
    "    if a>p:\n",
    "        print(\"The number is smaller than the guessed\")\n",
    "    elif a<p:\n",
    "        print(\"The number is greater than the guessed\")\n",
    "    else:\n",
    "        print(\"The guessed number matches the actual number\",p)\n",
    "        break\n",
    "    "
   ]
  },
  {
   "cell_type": "code",
   "execution_count": 40,
   "id": "a8363ef5-6a86-499d-bd0a-38a2ea200f1e",
   "metadata": {},
   "outputs": [
    {
     "name": "stdin",
     "output_type": "stream",
     "text": [
      "Enter the String Rohith Pradeep\n"
     ]
    },
    {
     "name": "stdout",
     "output_type": "stream",
     "text": [
      "R\n",
      "h\n",
      "t\n",
      "h\n",
      " \n",
      "P\n",
      "r\n",
      "d\n",
      "p\n"
     ]
    }
   ],
   "source": [
    "a=input(\"Enter the String\")\n",
    "i=0\n",
    "while i<len(a):\n",
    "    if a[i] not in ['a','e','i','o','u','A','E','I','O','U']:\n",
    "         print(a[i])\n",
    "    i=i+1\n",
    "        "
   ]
  },
  {
   "cell_type": "code",
   "execution_count": 53,
   "id": "1e953361-1274-414e-a5e6-0b465eadd0dd",
   "metadata": {},
   "outputs": [],
   "source": [
    "c=0\n",
    "while a!=0:\n",
    "    a=int(input(\"Enter a number\"))\n",
    "    c=c+a\n",
    "    if a==0:\n",
    "        print(\"Sum \",c)\n",
    "        break\n",
    "    "
   ]
  },
  {
   "cell_type": "code",
   "execution_count": 57,
   "id": "2f953b60-7c3e-4c13-92d1-55c561bddbd3",
   "metadata": {},
   "outputs": [
    {
     "name": "stdin",
     "output_type": "stream",
     "text": [
      "Enter a number 12\n"
     ]
    },
    {
     "name": "stdout",
     "output_type": "stream",
     "text": [
      "78\n"
     ]
    }
   ],
   "source": [
    "a=int(input(\"Enter a number\"))\n",
    "p=0\n",
    "i=0\n",
    "while i<=a:\n",
    "    p+=i\n",
    "    i+=1\n",
    "print(p)\n",
    "    "
   ]
  },
  {
   "cell_type": "code",
   "execution_count": 61,
   "id": "6037543b-48fc-4309-9a7d-3c14186a4575",
   "metadata": {},
   "outputs": [
    {
     "name": "stdin",
     "output_type": "stream",
     "text": [
      "Enter the Number 7\n"
     ]
    },
    {
     "name": "stdout",
     "output_type": "stream",
     "text": [
      "Factorial  5040\n"
     ]
    }
   ],
   "source": [
    "a=int(input(\"Enter the Number\"))\n",
    "c=1\n",
    "while (a>0):\n",
    "    c*=a\n",
    "    a-=1\n",
    "print(\"Factorial \",c)"
   ]
  },
  {
   "cell_type": "code",
   "execution_count": 68,
   "id": "0bab9917-4b3c-466e-8cb1-988b3296485c",
   "metadata": {},
   "outputs": [
    {
     "name": "stdout",
     "output_type": "stream",
     "text": [
      "***\n",
      "***\n",
      "***\n",
      "***\n"
     ]
    }
   ],
   "source": [
    "i=0\n",
    "while(i<4):\n",
    "    print(\"***\")\n",
    "    i+=1\n"
   ]
  },
  {
   "cell_type": "code",
   "execution_count": 70,
   "id": "7541a89c-1253-42d0-a3d4-cb7745ac53f9",
   "metadata": {},
   "outputs": [
    {
     "name": "stdout",
     "output_type": "stream",
     "text": [
      "\n",
      "*\n",
      "**\n",
      "***\n",
      "****\n"
     ]
    }
   ],
   "source": [
    "for i in range(5):\n",
    "    print('*' * i)"
   ]
  },
  {
   "cell_type": "code",
   "execution_count": 72,
   "id": "1e4c519e-78e9-4c96-b8c8-9dedf635d3e4",
   "metadata": {},
   "outputs": [
    {
     "name": "stdout",
     "output_type": "stream",
     "text": [
      "*****\n",
      "****\n",
      "***\n",
      "**\n",
      "*\n"
     ]
    }
   ],
   "source": [
    "for i in range(5,0, -1):\n",
    "    print(\"*\" * i)"
   ]
  },
  {
   "cell_type": "code",
   "execution_count": 79,
   "id": "1bd19eeb-0a1f-49e9-bb84-8c8bed9f775d",
   "metadata": {},
   "outputs": [
    {
     "name": "stdin",
     "output_type": "stream",
     "text": [
      "Enter a number 4\n"
     ]
    },
    {
     "name": "stdout",
     "output_type": "stream",
     "text": [
      "1\n",
      "2\n",
      "3\n",
      "4\n"
     ]
    },
    {
     "name": "stdin",
     "output_type": "stream",
     "text": [
      "Enter a number 5\n"
     ]
    },
    {
     "name": "stdout",
     "output_type": "stream",
     "text": [
      "1\n",
      "2\n",
      "3\n",
      "4\n",
      "5\n"
     ]
    },
    {
     "name": "stdin",
     "output_type": "stream",
     "text": [
      "Enter a number 0\n"
     ]
    }
   ],
   "source": [
    "a=1\n",
    "while a!=0:\n",
    "    a=int(input(\"Enter a number\"))\n",
    "    for i in range(1,a+1):\n",
    "        print(i)"
   ]
  },
  {
   "cell_type": "code",
   "execution_count": null,
   "id": "c1a12b13-f875-4865-8619-eeb5e271de28",
   "metadata": {},
   "outputs": [],
   "source": []
  }
 ],
 "metadata": {
  "kernelspec": {
   "display_name": "Python 3 (ipykernel)",
   "language": "python",
   "name": "python3"
  },
  "language_info": {
   "codemirror_mode": {
    "name": "ipython",
    "version": 3
   },
   "file_extension": ".py",
   "mimetype": "text/x-python",
   "name": "python",
   "nbconvert_exporter": "python",
   "pygments_lexer": "ipython3",
   "version": "3.10.6"
  }
 },
 "nbformat": 4,
 "nbformat_minor": 5
}
